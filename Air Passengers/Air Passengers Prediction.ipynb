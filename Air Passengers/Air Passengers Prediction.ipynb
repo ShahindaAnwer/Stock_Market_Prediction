{
  "nbformat": 4,
  "nbformat_minor": 0,
  "metadata": {
    "colab": {
      "provenance": []
    },
    "kernelspec": {
      "name": "python3",
      "display_name": "Python 3"
    },
    "language_info": {
      "name": "python"
    }
  },
  "cells": [
    {
      "cell_type": "code",
      "execution_count": 1,
      "metadata": {
        "id": "OLjzlzcQ1j1S"
      },
      "outputs": [],
      "source": [
        "import pandas as pd\n",
        "import numpy as np\n",
        "from matplotlib import pyplot as plt\n",
        "import tensorflow\n",
        "import math\n",
        "from sklearn.preprocessing import MinMaxScaler\n",
        "from sklearn.metrics import mean_squared_error\n",
        "from tensorflow.keras.models import Sequential\n",
        "from tensorflow.keras.layers import LSTM, Dense\n",
        "from sklearn.model_selection import train_test_split"
      ]
    },
    {
      "cell_type": "markdown",
      "source": [
        "#**Import Data**"
      ],
      "metadata": {
        "id": "6u_1dk6osTtI"
      }
    },
    {
      "cell_type": "code",
      "source": [
        "pdata = pd.read_csv('/content/AirPassengers.csv', usecols=[1], engine='python')\n",
        "pdata.head()"
      ],
      "metadata": {
        "colab": {
          "base_uri": "https://localhost:8080/",
          "height": 206
        },
        "id": "vnUXD0xWqFU-",
        "outputId": "60f691a1-86b0-4dfd-c0eb-4c7699cb8300"
      },
      "execution_count": 2,
      "outputs": [
        {
          "output_type": "execute_result",
          "data": {
            "text/plain": [
              "   #Passengers\n",
              "0          112\n",
              "1          118\n",
              "2          132\n",
              "3          129\n",
              "4          121"
            ],
            "text/html": [
              "\n",
              "  <div id=\"df-136f60ed-0824-44a5-9ce3-329ce85daff7\">\n",
              "    <div class=\"colab-df-container\">\n",
              "      <div>\n",
              "<style scoped>\n",
              "    .dataframe tbody tr th:only-of-type {\n",
              "        vertical-align: middle;\n",
              "    }\n",
              "\n",
              "    .dataframe tbody tr th {\n",
              "        vertical-align: top;\n",
              "    }\n",
              "\n",
              "    .dataframe thead th {\n",
              "        text-align: right;\n",
              "    }\n",
              "</style>\n",
              "<table border=\"1\" class=\"dataframe\">\n",
              "  <thead>\n",
              "    <tr style=\"text-align: right;\">\n",
              "      <th></th>\n",
              "      <th>#Passengers</th>\n",
              "    </tr>\n",
              "  </thead>\n",
              "  <tbody>\n",
              "    <tr>\n",
              "      <th>0</th>\n",
              "      <td>112</td>\n",
              "    </tr>\n",
              "    <tr>\n",
              "      <th>1</th>\n",
              "      <td>118</td>\n",
              "    </tr>\n",
              "    <tr>\n",
              "      <th>2</th>\n",
              "      <td>132</td>\n",
              "    </tr>\n",
              "    <tr>\n",
              "      <th>3</th>\n",
              "      <td>129</td>\n",
              "    </tr>\n",
              "    <tr>\n",
              "      <th>4</th>\n",
              "      <td>121</td>\n",
              "    </tr>\n",
              "  </tbody>\n",
              "</table>\n",
              "</div>\n",
              "      <button class=\"colab-df-convert\" onclick=\"convertToInteractive('df-136f60ed-0824-44a5-9ce3-329ce85daff7')\"\n",
              "              title=\"Convert this dataframe to an interactive table.\"\n",
              "              style=\"display:none;\">\n",
              "        \n",
              "  <svg xmlns=\"http://www.w3.org/2000/svg\" height=\"24px\"viewBox=\"0 0 24 24\"\n",
              "       width=\"24px\">\n",
              "    <path d=\"M0 0h24v24H0V0z\" fill=\"none\"/>\n",
              "    <path d=\"M18.56 5.44l.94 2.06.94-2.06 2.06-.94-2.06-.94-.94-2.06-.94 2.06-2.06.94zm-11 1L8.5 8.5l.94-2.06 2.06-.94-2.06-.94L8.5 2.5l-.94 2.06-2.06.94zm10 10l.94 2.06.94-2.06 2.06-.94-2.06-.94-.94-2.06-.94 2.06-2.06.94z\"/><path d=\"M17.41 7.96l-1.37-1.37c-.4-.4-.92-.59-1.43-.59-.52 0-1.04.2-1.43.59L10.3 9.45l-7.72 7.72c-.78.78-.78 2.05 0 2.83L4 21.41c.39.39.9.59 1.41.59.51 0 1.02-.2 1.41-.59l7.78-7.78 2.81-2.81c.8-.78.8-2.07 0-2.86zM5.41 20L4 18.59l7.72-7.72 1.47 1.35L5.41 20z\"/>\n",
              "  </svg>\n",
              "      </button>\n",
              "      \n",
              "  <style>\n",
              "    .colab-df-container {\n",
              "      display:flex;\n",
              "      flex-wrap:wrap;\n",
              "      gap: 12px;\n",
              "    }\n",
              "\n",
              "    .colab-df-convert {\n",
              "      background-color: #E8F0FE;\n",
              "      border: none;\n",
              "      border-radius: 50%;\n",
              "      cursor: pointer;\n",
              "      display: none;\n",
              "      fill: #1967D2;\n",
              "      height: 32px;\n",
              "      padding: 0 0 0 0;\n",
              "      width: 32px;\n",
              "    }\n",
              "\n",
              "    .colab-df-convert:hover {\n",
              "      background-color: #E2EBFA;\n",
              "      box-shadow: 0px 1px 2px rgba(60, 64, 67, 0.3), 0px 1px 3px 1px rgba(60, 64, 67, 0.15);\n",
              "      fill: #174EA6;\n",
              "    }\n",
              "\n",
              "    [theme=dark] .colab-df-convert {\n",
              "      background-color: #3B4455;\n",
              "      fill: #D2E3FC;\n",
              "    }\n",
              "\n",
              "    [theme=dark] .colab-df-convert:hover {\n",
              "      background-color: #434B5C;\n",
              "      box-shadow: 0px 1px 3px 1px rgba(0, 0, 0, 0.15);\n",
              "      filter: drop-shadow(0px 1px 2px rgba(0, 0, 0, 0.3));\n",
              "      fill: #FFFFFF;\n",
              "    }\n",
              "  </style>\n",
              "\n",
              "      <script>\n",
              "        const buttonEl =\n",
              "          document.querySelector('#df-136f60ed-0824-44a5-9ce3-329ce85daff7 button.colab-df-convert');\n",
              "        buttonEl.style.display =\n",
              "          google.colab.kernel.accessAllowed ? 'block' : 'none';\n",
              "\n",
              "        async function convertToInteractive(key) {\n",
              "          const element = document.querySelector('#df-136f60ed-0824-44a5-9ce3-329ce85daff7');\n",
              "          const dataTable =\n",
              "            await google.colab.kernel.invokeFunction('convertToInteractive',\n",
              "                                                     [key], {});\n",
              "          if (!dataTable) return;\n",
              "\n",
              "          const docLinkHtml = 'Like what you see? Visit the ' +\n",
              "            '<a target=\"_blank\" href=https://colab.research.google.com/notebooks/data_table.ipynb>data table notebook</a>'\n",
              "            + ' to learn more about interactive tables.';\n",
              "          element.innerHTML = '';\n",
              "          dataTable['output_type'] = 'display_data';\n",
              "          await google.colab.output.renderOutput(dataTable, element);\n",
              "          const docLink = document.createElement('div');\n",
              "          docLink.innerHTML = docLinkHtml;\n",
              "          element.appendChild(docLink);\n",
              "        }\n",
              "      </script>\n",
              "    </div>\n",
              "  </div>\n",
              "  "
            ]
          },
          "metadata": {},
          "execution_count": 2
        }
      ]
    },
    {
      "cell_type": "code",
      "source": [
        "data = pd.read_csv('/content/AirPassengers.csv')\n",
        "\n",
        "data['Month'] = pd.to_datetime(data['Month'], infer_datetime_format=True)\n",
        "data=data.set_index(['Month'])\n",
        "\n",
        "data.head()"
      ],
      "metadata": {
        "colab": {
          "base_uri": "https://localhost:8080/",
          "height": 237
        },
        "id": "jsjL8uvQeO33",
        "outputId": "c142a8a6-a633-436b-e72c-85763bc6fb5b"
      },
      "execution_count": 3,
      "outputs": [
        {
          "output_type": "execute_result",
          "data": {
            "text/plain": [
              "            #Passengers\n",
              "Month                  \n",
              "1949-01-01          112\n",
              "1949-02-01          118\n",
              "1949-03-01          132\n",
              "1949-04-01          129\n",
              "1949-05-01          121"
            ],
            "text/html": [
              "\n",
              "  <div id=\"df-b7aa4c0e-fe11-4569-9919-897402deb8b5\">\n",
              "    <div class=\"colab-df-container\">\n",
              "      <div>\n",
              "<style scoped>\n",
              "    .dataframe tbody tr th:only-of-type {\n",
              "        vertical-align: middle;\n",
              "    }\n",
              "\n",
              "    .dataframe tbody tr th {\n",
              "        vertical-align: top;\n",
              "    }\n",
              "\n",
              "    .dataframe thead th {\n",
              "        text-align: right;\n",
              "    }\n",
              "</style>\n",
              "<table border=\"1\" class=\"dataframe\">\n",
              "  <thead>\n",
              "    <tr style=\"text-align: right;\">\n",
              "      <th></th>\n",
              "      <th>#Passengers</th>\n",
              "    </tr>\n",
              "    <tr>\n",
              "      <th>Month</th>\n",
              "      <th></th>\n",
              "    </tr>\n",
              "  </thead>\n",
              "  <tbody>\n",
              "    <tr>\n",
              "      <th>1949-01-01</th>\n",
              "      <td>112</td>\n",
              "    </tr>\n",
              "    <tr>\n",
              "      <th>1949-02-01</th>\n",
              "      <td>118</td>\n",
              "    </tr>\n",
              "    <tr>\n",
              "      <th>1949-03-01</th>\n",
              "      <td>132</td>\n",
              "    </tr>\n",
              "    <tr>\n",
              "      <th>1949-04-01</th>\n",
              "      <td>129</td>\n",
              "    </tr>\n",
              "    <tr>\n",
              "      <th>1949-05-01</th>\n",
              "      <td>121</td>\n",
              "    </tr>\n",
              "  </tbody>\n",
              "</table>\n",
              "</div>\n",
              "      <button class=\"colab-df-convert\" onclick=\"convertToInteractive('df-b7aa4c0e-fe11-4569-9919-897402deb8b5')\"\n",
              "              title=\"Convert this dataframe to an interactive table.\"\n",
              "              style=\"display:none;\">\n",
              "        \n",
              "  <svg xmlns=\"http://www.w3.org/2000/svg\" height=\"24px\"viewBox=\"0 0 24 24\"\n",
              "       width=\"24px\">\n",
              "    <path d=\"M0 0h24v24H0V0z\" fill=\"none\"/>\n",
              "    <path d=\"M18.56 5.44l.94 2.06.94-2.06 2.06-.94-2.06-.94-.94-2.06-.94 2.06-2.06.94zm-11 1L8.5 8.5l.94-2.06 2.06-.94-2.06-.94L8.5 2.5l-.94 2.06-2.06.94zm10 10l.94 2.06.94-2.06 2.06-.94-2.06-.94-.94-2.06-.94 2.06-2.06.94z\"/><path d=\"M17.41 7.96l-1.37-1.37c-.4-.4-.92-.59-1.43-.59-.52 0-1.04.2-1.43.59L10.3 9.45l-7.72 7.72c-.78.78-.78 2.05 0 2.83L4 21.41c.39.39.9.59 1.41.59.51 0 1.02-.2 1.41-.59l7.78-7.78 2.81-2.81c.8-.78.8-2.07 0-2.86zM5.41 20L4 18.59l7.72-7.72 1.47 1.35L5.41 20z\"/>\n",
              "  </svg>\n",
              "      </button>\n",
              "      \n",
              "  <style>\n",
              "    .colab-df-container {\n",
              "      display:flex;\n",
              "      flex-wrap:wrap;\n",
              "      gap: 12px;\n",
              "    }\n",
              "\n",
              "    .colab-df-convert {\n",
              "      background-color: #E8F0FE;\n",
              "      border: none;\n",
              "      border-radius: 50%;\n",
              "      cursor: pointer;\n",
              "      display: none;\n",
              "      fill: #1967D2;\n",
              "      height: 32px;\n",
              "      padding: 0 0 0 0;\n",
              "      width: 32px;\n",
              "    }\n",
              "\n",
              "    .colab-df-convert:hover {\n",
              "      background-color: #E2EBFA;\n",
              "      box-shadow: 0px 1px 2px rgba(60, 64, 67, 0.3), 0px 1px 3px 1px rgba(60, 64, 67, 0.15);\n",
              "      fill: #174EA6;\n",
              "    }\n",
              "\n",
              "    [theme=dark] .colab-df-convert {\n",
              "      background-color: #3B4455;\n",
              "      fill: #D2E3FC;\n",
              "    }\n",
              "\n",
              "    [theme=dark] .colab-df-convert:hover {\n",
              "      background-color: #434B5C;\n",
              "      box-shadow: 0px 1px 3px 1px rgba(0, 0, 0, 0.15);\n",
              "      filter: drop-shadow(0px 1px 2px rgba(0, 0, 0, 0.3));\n",
              "      fill: #FFFFFF;\n",
              "    }\n",
              "  </style>\n",
              "\n",
              "      <script>\n",
              "        const buttonEl =\n",
              "          document.querySelector('#df-b7aa4c0e-fe11-4569-9919-897402deb8b5 button.colab-df-convert');\n",
              "        buttonEl.style.display =\n",
              "          google.colab.kernel.accessAllowed ? 'block' : 'none';\n",
              "\n",
              "        async function convertToInteractive(key) {\n",
              "          const element = document.querySelector('#df-b7aa4c0e-fe11-4569-9919-897402deb8b5');\n",
              "          const dataTable =\n",
              "            await google.colab.kernel.invokeFunction('convertToInteractive',\n",
              "                                                     [key], {});\n",
              "          if (!dataTable) return;\n",
              "\n",
              "          const docLinkHtml = 'Like what you see? Visit the ' +\n",
              "            '<a target=\"_blank\" href=https://colab.research.google.com/notebooks/data_table.ipynb>data table notebook</a>'\n",
              "            + ' to learn more about interactive tables.';\n",
              "          element.innerHTML = '';\n",
              "          dataTable['output_type'] = 'display_data';\n",
              "          await google.colab.output.renderOutput(dataTable, element);\n",
              "          const docLink = document.createElement('div');\n",
              "          docLink.innerHTML = docLinkHtml;\n",
              "          element.appendChild(docLink);\n",
              "        }\n",
              "      </script>\n",
              "    </div>\n",
              "  </div>\n",
              "  "
            ]
          },
          "metadata": {},
          "execution_count": 3
        }
      ]
    },
    {
      "cell_type": "markdown",
      "source": [
        "#**Data Analysis and Visualization**"
      ],
      "metadata": {
        "id": "jyfoGdcKfR3b"
      }
    },
    {
      "cell_type": "code",
      "source": [
        "plt.xlabel(\"Month\")\n",
        "plt.ylabel(\"Number of Air Passengers\")\n",
        "plt.plot(data)"
      ],
      "metadata": {
        "colab": {
          "base_uri": "https://localhost:8080/",
          "height": 296
        },
        "id": "x1-UyqQjfC7a",
        "outputId": "2284ec4e-547f-49c3-f587-f34f1257672f"
      },
      "execution_count": 4,
      "outputs": [
        {
          "output_type": "execute_result",
          "data": {
            "text/plain": [
              "[<matplotlib.lines.Line2D at 0x7f0a7a712310>]"
            ]
          },
          "metadata": {},
          "execution_count": 4
        },
        {
          "output_type": "display_data",
          "data": {
            "text/plain": [
              "<Figure size 432x288 with 1 Axes>"
            ],
            "image/png": "[encoded data removed]"
          },
          "metadata": {
            "needs_background": "light"
          }
        }
      ]
    },
    {
      "cell_type": "markdown",
      "source": [
        "Data is trending"
      ],
      "metadata": {
        "id": "ChtByadNsYgu"
      }
    },
    {
      "cell_type": "code",
      "source": [
        "data.isnull().sum()"
      ],
      "metadata": {
        "colab": {
          "base_uri": "https://localhost:8080/"
        },
        "id": "JqZ0fvoffikK",
        "outputId": "6885b391-5b6d-414c-c5e6-4a0571e60e94"
      },
      "execution_count": 5,
      "outputs": [
        {
          "output_type": "execute_result",
          "data": {
            "text/plain": [
              "#Passengers    0\n",
              "dtype: int64"
            ]
          },
          "metadata": {},
          "execution_count": 5
        }
      ]
    },
    {
      "cell_type": "markdown",
      "source": [
        "#**Data Preprocessing**"
      ],
      "metadata": {
        "id": "1miwDQJbaFl2"
      }
    },
    {
      "cell_type": "code",
      "source": [
        "pdata.astype('float32')"
      ],
      "metadata": {
        "colab": {
          "base_uri": "https://localhost:8080/",
          "height": 423
        },
        "id": "huDGYiLlweJE",
        "outputId": "93d0605f-03a1-4239-e231-a698da477609"
      },
      "execution_count": 6,
      "outputs": [
        {
          "output_type": "execute_result",
          "data": {
            "text/plain": [
              "     #Passengers\n",
              "0          112.0\n",
              "1          118.0\n",
              "2          132.0\n",
              "3          129.0\n",
              "4          121.0\n",
              "..           ...\n",
              "139        606.0\n",
              "140        508.0\n",
              "141        461.0\n",
              "142        390.0\n",
              "143        432.0\n",
              "\n",
              "[144 rows x 1 columns]"
            ],
            "text/html": [
              "\n",
              "  <div id=\"df-158e3f76-fd39-4307-8f97-cb80b4c53539\">\n",
              "    <div class=\"colab-df-container\">\n",
              "      <div>\n",
              "<style scoped>\n",
              "    .dataframe tbody tr th:only-of-type {\n",
              "        vertical-align: middle;\n",
              "    }\n",
              "\n",
              "    .dataframe tbody tr th {\n",
              "        vertical-align: top;\n",
              "    }\n",
              "\n",
              "    .dataframe thead th {\n",
              "        text-align: right;\n",
              "    }\n",
              "</style>\n",
              "<table border=\"1\" class=\"dataframe\">\n",
              "  <thead>\n",
              "    <tr style=\"text-align: right;\">\n",
              "      <th></th>\n",
              "      <th>#Passengers</th>\n",
              "    </tr>\n",
              "  </thead>\n",
              "  <tbody>\n",
              "    <tr>\n",
              "      <th>0</th>\n",
              "      <td>112.0</td>\n",
              "    </tr>\n",
              "    <tr>\n",
              "      <th>1</th>\n",
              "      <td>118.0</td>\n",
              "    </tr>\n",
              "    <tr>\n",
              "      <th>2</th>\n",
              "      <td>132.0</td>\n",
              "    </tr>\n",
              "    <tr>\n",
              "      <th>3</th>\n",
              "      <td>129.0</td>\n",
              "    </tr>\n",
              "    <tr>\n",
              "      <th>4</th>\n",
              "      <td>121.0</td>\n",
              "    </tr>\n",
              "    <tr>\n",
              "      <th>...</th>\n",
              "      <td>...</td>\n",
              "    </tr>\n",
              "    <tr>\n",
              "      <th>139</th>\n",
              "      <td>606.0</td>\n",
              "    </tr>\n",
              "    <tr>\n",
              "      <th>140</th>\n",
              "      <td>508.0</td>\n",
              "    </tr>\n",
              "    <tr>\n",
              "      <th>141</th>\n",
              "      <td>461.0</td>\n",
              "    </tr>\n",
              "    <tr>\n",
              "      <th>142</th>\n",
              "      <td>390.0</td>\n",
              "    </tr>\n",
              "    <tr>\n",
              "      <th>143</th>\n",
              "      <td>432.0</td>\n",
              "    </tr>\n",
              "  </tbody>\n",
              "</table>\n",
              "<p>144 rows × 1 columns</p>\n",
              "</div>\n",
              "      <button class=\"colab-df-convert\" onclick=\"convertToInteractive('df-158e3f76-fd39-4307-8f97-cb80b4c53539')\"\n",
              "              title=\"Convert this dataframe to an interactive table.\"\n",
              "              style=\"display:none;\">\n",
              "        \n",
              "  <svg xmlns=\"http://www.w3.org/2000/svg\" height=\"24px\"viewBox=\"0 0 24 24\"\n",
              "       width=\"24px\">\n",
              "    <path d=\"M0 0h24v24H0V0z\" fill=\"none\"/>\n",
              "    <path d=\"M18.56 5.44l.94 2.06.94-2.06 2.06-.94-2.06-.94-.94-2.06-.94 2.06-2.06.94zm-11 1L8.5 8.5l.94-2.06 2.06-.94-2.06-.94L8.5 2.5l-.94 2.06-2.06.94zm10 10l.94 2.06.94-2.06 2.06-.94-2.06-.94-.94-2.06-.94 2.06-2.06.94z\"/><path d=\"M17.41 7.96l-1.37-1.37c-.4-.4-.92-.59-1.43-.59-.52 0-1.04.2-1.43.59L10.3 9.45l-7.72 7.72c-.78.78-.78 2.05 0 2.83L4 21.41c.39.39.9.59 1.41.59.51 0 1.02-.2 1.41-.59l7.78-7.78 2.81-2.81c.8-.78.8-2.07 0-2.86zM5.41 20L4 18.59l7.72-7.72 1.47 1.35L5.41 20z\"/>\n",
              "  </svg>\n",
              "      </button>\n",
              "      \n",
              "  <style>\n",
              "    .colab-df-container {\n",
              "      display:flex;\n",
              "      flex-wrap:wrap;\n",
              "      gap: 12px;\n",
              "    }\n",
              "\n",
              "    .colab-df-convert {\n",
              "      background-color: #E8F0FE;\n",
              "      border: none;\n",
              "      border-radius: 50%;\n",
              "      cursor: pointer;\n",
              "      display: none;\n",
              "      fill: #1967D2;\n",
              "      height: 32px;\n",
              "      padding: 0 0 0 0;\n",
              "      width: 32px;\n",
              "    }\n",
              "\n",
              "    .colab-df-convert:hover {\n",
              "      background-color: #E2EBFA;\n",
              "      box-shadow: 0px 1px 2px rgba(60, 64, 67, 0.3), 0px 1px 3px 1px rgba(60, 64, 67, 0.15);\n",
              "      fill: #174EA6;\n",
              "    }\n",
              "\n",
              "    [theme=dark] .colab-df-convert {\n",
              "      background-color: #3B4455;\n",
              "      fill: #D2E3FC;\n",
              "    }\n",
              "\n",
              "    [theme=dark] .colab-df-convert:hover {\n",
              "      background-color: #434B5C;\n",
              "      box-shadow: 0px 1px 3px 1px rgba(0, 0, 0, 0.15);\n",
              "      filter: drop-shadow(0px 1px 2px rgba(0, 0, 0, 0.3));\n",
              "      fill: #FFFFFF;\n",
              "    }\n",
              "  </style>\n",
              "\n",
              "      <script>\n",
              "        const buttonEl =\n",
              "          document.querySelector('#df-158e3f76-fd39-4307-8f97-cb80b4c53539 button.colab-df-convert');\n",
              "        buttonEl.style.display =\n",
              "          google.colab.kernel.accessAllowed ? 'block' : 'none';\n",
              "\n",
              "        async function convertToInteractive(key) {\n",
              "          const element = document.querySelector('#df-158e3f76-fd39-4307-8f97-cb80b4c53539');\n",
              "          const dataTable =\n",
              "            await google.colab.kernel.invokeFunction('convertToInteractive',\n",
              "                                                     [key], {});\n",
              "          if (!dataTable) return;\n",
              "\n",
              "          const docLinkHtml = 'Like what you see? Visit the ' +\n",
              "            '<a target=\"_blank\" href=https://colab.research.google.com/notebooks/data_table.ipynb>data table notebook</a>'\n",
              "            + ' to learn more about interactive tables.';\n",
              "          element.innerHTML = '';\n",
              "          dataTable['output_type'] = 'display_data';\n",
              "          await google.colab.output.renderOutput(dataTable, element);\n",
              "          const docLink = document.createElement('div');\n",
              "          docLink.innerHTML = docLinkHtml;\n",
              "          element.appendChild(docLink);\n",
              "        }\n",
              "      </script>\n",
              "    </div>\n",
              "  </div>\n",
              "  "
            ]
          },
          "metadata": {},
          "execution_count": 6
        }
      ]
    },
    {
      "cell_type": "code",
      "source": [
        "# normalize data as lstm is very senstive to the scale\n",
        "scaler = MinMaxScaler()\n",
        "\n",
        "pdata = scaler.fit_transform(pdata)\n",
        "pdata"
      ],
      "metadata": {
        "colab": {
          "base_uri": "https://localhost:8080/"
        },
        "id": "Frh7oxF3Z1ne",
        "outputId": "920e3f41-dff6-492d-e070-77acfbc3e725"
      },
      "execution_count": 7,
      "outputs": [
        {
          "output_type": "execute_result",
          "data": {
            "text/plain": [
              "array([[0.01544402],\n",
              "       [0.02702703],\n",
              "       [0.05405405],\n",
              "       [0.04826255],\n",
              "       [0.03281853],\n",
              "       [0.05984556],\n",
              "       [0.08494208],\n",
              "       [0.08494208],\n",
              "       [0.06177606],\n",
              "       [0.02895753],\n",
              "       [0.        ],\n",
              "       [0.02702703],\n",
              "       [0.02123552],\n",
              "       [0.04247104],\n",
              "       [0.07142857],\n",
              "       [0.05984556],\n",
              "       [0.04054054],\n",
              "       [0.08687259],\n",
              "       [0.12741313],\n",
              "       [0.12741313],\n",
              "       [0.1042471 ],\n",
              "       [0.05598456],\n",
              "       [0.01930502],\n",
              "       [0.06949807],\n",
              "       [0.07915058],\n",
              "       [0.08880309],\n",
              "       [0.14285714],\n",
              "       [0.11389961],\n",
              "       [0.13127413],\n",
              "       [0.14285714],\n",
              "       [0.18339768],\n",
              "       [0.18339768],\n",
              "       [0.15444015],\n",
              "       [0.11196911],\n",
              "       [0.08108108],\n",
              "       [0.11969112],\n",
              "       [0.12934363],\n",
              "       [0.14671815],\n",
              "       [0.17181467],\n",
              "       [0.14864865],\n",
              "       [0.15250965],\n",
              "       [0.22007722],\n",
              "       [0.24324324],\n",
              "       [0.26640927],\n",
              "       [0.2027027 ],\n",
              "       [0.16795367],\n",
              "       [0.13127413],\n",
              "       [0.17374517],\n",
              "       [0.17760618],\n",
              "       [0.17760618],\n",
              "       [0.25482625],\n",
              "       [0.25289575],\n",
              "       [0.24131274],\n",
              "       [0.26833977],\n",
              "       [0.30888031],\n",
              "       [0.32432432],\n",
              "       [0.25675676],\n",
              "       [0.20656371],\n",
              "       [0.14671815],\n",
              "       [0.18725869],\n",
              "       [0.19305019],\n",
              "       [0.16216216],\n",
              "       [0.25289575],\n",
              "       [0.23745174],\n",
              "       [0.25096525],\n",
              "       [0.30888031],\n",
              "       [0.38223938],\n",
              "       [0.36486486],\n",
              "       [0.2992278 ],\n",
              "       [0.24131274],\n",
              "       [0.19111969],\n",
              "       [0.24131274],\n",
              "       [0.26640927],\n",
              "       [0.24903475],\n",
              "       [0.31467181],\n",
              "       [0.31853282],\n",
              "       [0.32046332],\n",
              "       [0.40733591],\n",
              "       [0.5019305 ],\n",
              "       [0.46911197],\n",
              "       [0.4015444 ],\n",
              "       [0.32818533],\n",
              "       [0.25675676],\n",
              "       [0.33590734],\n",
              "       [0.34749035],\n",
              "       [0.33397683],\n",
              "       [0.41119691],\n",
              "       [0.4034749 ],\n",
              "       [0.41312741],\n",
              "       [0.52123552],\n",
              "       [0.5965251 ],\n",
              "       [0.58108108],\n",
              "       [0.48455598],\n",
              "       [0.38996139],\n",
              "       [0.32239382],\n",
              "       [0.38996139],\n",
              "       [0.40733591],\n",
              "       [0.38030888],\n",
              "       [0.48648649],\n",
              "       [0.47104247],\n",
              "       [0.48455598],\n",
              "       [0.61389961],\n",
              "       [0.6969112 ],\n",
              "       [0.7007722 ],\n",
              "       [0.57915058],\n",
              "       [0.46911197],\n",
              "       [0.38803089],\n",
              "       [0.44787645],\n",
              "       [0.45559846],\n",
              "       [0.41312741],\n",
              "       [0.4980695 ],\n",
              "       [0.47104247],\n",
              "       [0.5       ],\n",
              "       [0.63899614],\n",
              "       [0.74710425],\n",
              "       [0.77413127],\n",
              "       [0.57915058],\n",
              "       [0.49227799],\n",
              "       [0.3976834 ],\n",
              "       [0.44980695],\n",
              "       [0.49420849],\n",
              "       [0.45945946],\n",
              "       [0.58301158],\n",
              "       [0.56370656],\n",
              "       [0.61003861],\n",
              "       [0.71042471],\n",
              "       [0.85714286],\n",
              "       [0.87837838],\n",
              "       [0.69305019],\n",
              "       [0.58494208],\n",
              "       [0.4980695 ],\n",
              "       [0.58108108],\n",
              "       [0.6042471 ],\n",
              "       [0.55405405],\n",
              "       [0.60810811],\n",
              "       [0.68918919],\n",
              "       [0.71042471],\n",
              "       [0.83204633],\n",
              "       [1.        ],\n",
              "       [0.96911197],\n",
              "       [0.77992278],\n",
              "       [0.68918919],\n",
              "       [0.55212355],\n",
              "       [0.63320463]])"
            ]
          },
          "metadata": {},
          "execution_count": 7
        }
      ]
    },
    {
      "cell_type": "code",
      "source": [
        "train_size = int(len(pdata) * .80)\n",
        "test_size = len(pdata) - train_size\n",
        "\n",
        "train_size, test_size"
      ],
      "metadata": {
        "colab": {
          "base_uri": "https://localhost:8080/"
        },
        "id": "MoOk_mYlagmK",
        "outputId": "b5842fe6-40bf-4365-fb75-65566ac02168"
      },
      "execution_count": 8,
      "outputs": [
        {
          "output_type": "execute_result",
          "data": {
            "text/plain": [
              "(115, 29)"
            ]
          },
          "metadata": {},
          "execution_count": 8
        }
      ]
    },
    {
      "cell_type": "code",
      "source": [
        "train = pdata[0:train_size]\n",
        "test = pdata[train_size:]"
      ],
      "metadata": {
        "id": "F8EER4bIgYH2"
      },
      "execution_count": 9,
      "outputs": []
    },
    {
      "cell_type": "code",
      "source": [
        "len(train), len(test)"
      ],
      "metadata": {
        "colab": {
          "base_uri": "https://localhost:8080/"
        },
        "id": "3nmXrY_qgtx6",
        "outputId": "1cfb7418-ef74-4de6-ba65-bf3472215898"
      },
      "execution_count": 10,
      "outputs": [
        {
          "output_type": "execute_result",
          "data": {
            "text/plain": [
              "(115, 29)"
            ]
          },
          "metadata": {},
          "execution_count": 10
        }
      ]
    },
    {
      "cell_type": "markdown",
      "source": [
        "create a lookback, which is the number of previous timesteps that are used in order to predict the subsequent timestep "
      ],
      "metadata": {
        "id": "ciHGOjN4iIwQ"
      }
    },
    {
      "cell_type": "code",
      "source": [
        "# convert data to numpy array\n",
        "def dataset(data, lookback):\n",
        "  X, Y = [], []\n",
        "  for i in range (len(pdata)-lookback-1):\n",
        "    d = pdata[i:(i+lookback), 0]\n",
        "    X.append(d) # number of passengers at a given time t\n",
        "    Y.append(pdata[i + lookback, 0]) # number of passengers at t+1\n",
        "  return np.array(X), np.array(Y)"
      ],
      "metadata": {
        "id": "Hv3YP6chguUP"
      },
      "execution_count": 11,
      "outputs": []
    },
    {
      "cell_type": "markdown",
      "source": [
        "X = t, Y = t+1"
      ],
      "metadata": {
        "id": "OPP-O9KgkmiA"
      }
    },
    {
      "cell_type": "code",
      "source": [
        "# reshape X and Y\n",
        "lookback = 5\n",
        "Xtrain, Ytrain = dataset(train, lookback)\n",
        "\n",
        "Xtest, Ytest = dataset(test, lookback)"
      ],
      "metadata": {
        "id": "m7pWWHD7kimF"
      },
      "execution_count": 12,
      "outputs": []
    },
    {
      "cell_type": "code",
      "source": [
        "# reshap into [samples, time steps, features] format\n",
        "Xtrain = np.reshape(Xtrain, (Xtrain.shape[0], 1, Xtrain.shape[1]))\n",
        "Xtest = np.reshape(Xtest, (Xtest.shape[0], 1, Xtest.shape[1]))"
      ],
      "metadata": {
        "id": "9uG2TqH8lGNk"
      },
      "execution_count": 13,
      "outputs": []
    },
    {
      "cell_type": "markdown",
      "source": [
        "#**Model Building**"
      ],
      "metadata": {
        "id": "FTCqF17s6rwA"
      }
    },
    {
      "cell_type": "code",
      "source": [
        "model = tensorflow.keras.Sequential()\n",
        "model.add(LSTM(36, input_shape=(1, lookback)))\n",
        "model.add(Dense(1))"
      ],
      "metadata": {
        "id": "BYOnLH886YOr"
      },
      "execution_count": 14,
      "outputs": []
    },
    {
      "cell_type": "code",
      "source": [
        "model.compile(loss='mean_squared_error', optimizer='adam')"
      ],
      "metadata": {
        "id": "xEd8BSaG7Wc8"
      },
      "execution_count": 15,
      "outputs": []
    },
    {
      "cell_type": "code",
      "source": [
        "history = model.fit(Xtrain, Ytrain, validation_split=0.2, epochs=100, batch_size=5)"
      ],
      "metadata": {
        "colab": {
          "base_uri": "https://localhost:8080/"
        },
        "id": "9v8ArvqJ7ZAl",
        "outputId": "41c40909-f6c7-4156-8d99-bae5ddb8438a"
      },
      "execution_count": 16,
      "outputs": [
        {
          "output_type": "stream",
          "name": "stdout",
          "text": [
            "Epoch 1/100\n",
            "22/22 [==============================] - 6s 69ms/step - loss: 0.0400 - val_loss: 0.0951\n",
            "Epoch 2/100\n",
            "22/22 [==============================] - 0s 11ms/step - loss: 0.0117 - val_loss: 0.0316\n",
            "Epoch 3/100\n",
            "22/22 [==============================] - 0s 15ms/step - loss: 0.0083 - val_loss: 0.0285\n",
            "Epoch 4/100\n",
            "22/22 [==============================] - 1s 26ms/step - loss: 0.0078 - val_loss: 0.0288\n",
            "Epoch 5/100\n",
            "22/22 [==============================] - 0s 13ms/step - loss: 0.0074 - val_loss: 0.0270\n",
            "Epoch 6/100\n",
            "22/22 [==============================] - 0s 17ms/step - loss: 0.0070 - val_loss: 0.0272\n",
            "Epoch 7/100\n",
            "22/22 [==============================] - 0s 12ms/step - loss: 0.0068 - val_loss: 0.0251\n",
            "Epoch 8/100\n",
            "22/22 [==============================] - 0s 15ms/step - loss: 0.0065 - val_loss: 0.0248\n",
            "Epoch 9/100\n",
            "22/22 [==============================] - 0s 16ms/step - loss: 0.0063 - val_loss: 0.0245\n",
            "Epoch 10/100\n",
            "22/22 [==============================] - 0s 12ms/step - loss: 0.0062 - val_loss: 0.0238\n",
            "Epoch 11/100\n",
            "22/22 [==============================] - 0s 11ms/step - loss: 0.0059 - val_loss: 0.0233\n",
            "Epoch 12/100\n",
            "22/22 [==============================] - 0s 13ms/step - loss: 0.0057 - val_loss: 0.0228\n",
            "Epoch 13/100\n",
            "22/22 [==============================] - 0s 11ms/step - loss: 0.0056 - val_loss: 0.0222\n",
            "Epoch 14/100\n",
            "22/22 [==============================] - 0s 8ms/step - loss: 0.0056 - val_loss: 0.0220\n",
            "Epoch 15/100\n",
            "22/22 [==============================] - 0s 9ms/step - loss: 0.0053 - val_loss: 0.0212\n",
            "Epoch 16/100\n",
            "22/22 [==============================] - 0s 10ms/step - loss: 0.0054 - val_loss: 0.0203\n",
            "Epoch 17/100\n",
            "22/22 [==============================] - 0s 7ms/step - loss: 0.0055 - val_loss: 0.0197\n",
            "Epoch 18/100\n",
            "22/22 [==============================] - 0s 15ms/step - loss: 0.0050 - val_loss: 0.0199\n",
            "Epoch 19/100\n",
            "22/22 [==============================] - 0s 9ms/step - loss: 0.0049 - val_loss: 0.0186\n",
            "Epoch 20/100\n",
            "22/22 [==============================] - 0s 14ms/step - loss: 0.0049 - val_loss: 0.0183\n",
            "Epoch 21/100\n",
            "22/22 [==============================] - 0s 7ms/step - loss: 0.0047 - val_loss: 0.0177\n",
            "Epoch 22/100\n",
            "22/22 [==============================] - 0s 11ms/step - loss: 0.0045 - val_loss: 0.0178\n",
            "Epoch 23/100\n",
            "22/22 [==============================] - 0s 12ms/step - loss: 0.0044 - val_loss: 0.0168\n",
            "Epoch 24/100\n",
            "22/22 [==============================] - 0s 7ms/step - loss: 0.0042 - val_loss: 0.0162\n",
            "Epoch 25/100\n",
            "22/22 [==============================] - 0s 7ms/step - loss: 0.0041 - val_loss: 0.0154\n",
            "Epoch 26/100\n",
            "22/22 [==============================] - 0s 14ms/step - loss: 0.0040 - val_loss: 0.0151\n",
            "Epoch 27/100\n",
            "22/22 [==============================] - 0s 8ms/step - loss: 0.0039 - val_loss: 0.0147\n",
            "Epoch 28/100\n",
            "22/22 [==============================] - 0s 18ms/step - loss: 0.0039 - val_loss: 0.0145\n",
            "Epoch 29/100\n",
            "22/22 [==============================] - 0s 11ms/step - loss: 0.0040 - val_loss: 0.0141\n",
            "Epoch 30/100\n",
            "22/22 [==============================] - 0s 17ms/step - loss: 0.0036 - val_loss: 0.0137\n",
            "Epoch 31/100\n",
            "22/22 [==============================] - 0s 19ms/step - loss: 0.0036 - val_loss: 0.0130\n",
            "Epoch 32/100\n",
            "22/22 [==============================] - 0s 15ms/step - loss: 0.0037 - val_loss: 0.0143\n",
            "Epoch 33/100\n",
            "22/22 [==============================] - 0s 13ms/step - loss: 0.0036 - val_loss: 0.0125\n",
            "Epoch 34/100\n",
            "22/22 [==============================] - 0s 14ms/step - loss: 0.0034 - val_loss: 0.0122\n",
            "Epoch 35/100\n",
            "22/22 [==============================] - 0s 16ms/step - loss: 0.0033 - val_loss: 0.0119\n",
            "Epoch 36/100\n",
            "22/22 [==============================] - 0s 15ms/step - loss: 0.0036 - val_loss: 0.0116\n",
            "Epoch 37/100\n",
            "22/22 [==============================] - 0s 14ms/step - loss: 0.0034 - val_loss: 0.0117\n",
            "Epoch 38/100\n",
            "22/22 [==============================] - 0s 12ms/step - loss: 0.0031 - val_loss: 0.0122\n",
            "Epoch 39/100\n",
            "22/22 [==============================] - 0s 17ms/step - loss: 0.0031 - val_loss: 0.0112\n",
            "Epoch 40/100\n",
            "22/22 [==============================] - 0s 10ms/step - loss: 0.0031 - val_loss: 0.0114\n",
            "Epoch 41/100\n",
            "22/22 [==============================] - 0s 13ms/step - loss: 0.0031 - val_loss: 0.0105\n",
            "Epoch 42/100\n",
            "22/22 [==============================] - 0s 13ms/step - loss: 0.0032 - val_loss: 0.0104\n",
            "Epoch 43/100\n",
            "22/22 [==============================] - 0s 18ms/step - loss: 0.0030 - val_loss: 0.0126\n",
            "Epoch 44/100\n",
            "22/22 [==============================] - 0s 18ms/step - loss: 0.0029 - val_loss: 0.0108\n",
            "Epoch 45/100\n",
            "22/22 [==============================] - 0s 18ms/step - loss: 0.0031 - val_loss: 0.0131\n",
            "Epoch 46/100\n",
            "22/22 [==============================] - 0s 14ms/step - loss: 0.0029 - val_loss: 0.0102\n",
            "Epoch 47/100\n",
            "22/22 [==============================] - 0s 22ms/step - loss: 0.0030 - val_loss: 0.0099\n",
            "Epoch 48/100\n",
            "22/22 [==============================] - 1s 26ms/step - loss: 0.0028 - val_loss: 0.0109\n",
            "Epoch 49/100\n",
            "22/22 [==============================] - 1s 25ms/step - loss: 0.0028 - val_loss: 0.0096\n",
            "Epoch 50/100\n",
            "22/22 [==============================] - 1s 29ms/step - loss: 0.0027 - val_loss: 0.0101\n",
            "Epoch 51/100\n",
            "22/22 [==============================] - 1s 30ms/step - loss: 0.0029 - val_loss: 0.0106\n",
            "Epoch 52/100\n",
            "22/22 [==============================] - 0s 19ms/step - loss: 0.0027 - val_loss: 0.0095\n",
            "Epoch 53/100\n",
            "22/22 [==============================] - 0s 17ms/step - loss: 0.0028 - val_loss: 0.0093\n",
            "Epoch 54/100\n",
            "22/22 [==============================] - 0s 17ms/step - loss: 0.0027 - val_loss: 0.0092\n",
            "Epoch 55/100\n",
            "22/22 [==============================] - 0s 12ms/step - loss: 0.0026 - val_loss: 0.0094\n",
            "Epoch 56/100\n",
            "22/22 [==============================] - 0s 13ms/step - loss: 0.0026 - val_loss: 0.0089\n",
            "Epoch 57/100\n",
            "22/22 [==============================] - 0s 15ms/step - loss: 0.0026 - val_loss: 0.0089\n",
            "Epoch 58/100\n",
            "22/22 [==============================] - 0s 12ms/step - loss: 0.0026 - val_loss: 0.0092\n",
            "Epoch 59/100\n",
            "22/22 [==============================] - 0s 18ms/step - loss: 0.0026 - val_loss: 0.0088\n",
            "Epoch 60/100\n",
            "22/22 [==============================] - 0s 16ms/step - loss: 0.0026 - val_loss: 0.0087\n",
            "Epoch 61/100\n",
            "22/22 [==============================] - 0s 13ms/step - loss: 0.0029 - val_loss: 0.0101\n",
            "Epoch 62/100\n",
            "22/22 [==============================] - 0s 12ms/step - loss: 0.0029 - val_loss: 0.0089\n",
            "Epoch 63/100\n",
            "22/22 [==============================] - 0s 15ms/step - loss: 0.0025 - val_loss: 0.0085\n",
            "Epoch 64/100\n",
            "22/22 [==============================] - 0s 12ms/step - loss: 0.0026 - val_loss: 0.0088\n",
            "Epoch 65/100\n",
            "22/22 [==============================] - 0s 15ms/step - loss: 0.0025 - val_loss: 0.0085\n",
            "Epoch 66/100\n",
            "22/22 [==============================] - 0s 14ms/step - loss: 0.0025 - val_loss: 0.0084\n",
            "Epoch 67/100\n",
            "22/22 [==============================] - 0s 20ms/step - loss: 0.0025 - val_loss: 0.0085\n",
            "Epoch 68/100\n",
            "22/22 [==============================] - 1s 25ms/step - loss: 0.0026 - val_loss: 0.0086\n",
            "Epoch 69/100\n",
            "22/22 [==============================] - 0s 21ms/step - loss: 0.0034 - val_loss: 0.0088\n",
            "Epoch 70/100\n",
            "22/22 [==============================] - 0s 16ms/step - loss: 0.0024 - val_loss: 0.0083\n",
            "Epoch 71/100\n",
            "22/22 [==============================] - 0s 15ms/step - loss: 0.0026 - val_loss: 0.0083\n",
            "Epoch 72/100\n",
            "22/22 [==============================] - 0s 14ms/step - loss: 0.0026 - val_loss: 0.0083\n",
            "Epoch 73/100\n",
            "22/22 [==============================] - 0s 16ms/step - loss: 0.0024 - val_loss: 0.0082\n",
            "Epoch 74/100\n",
            "22/22 [==============================] - 0s 19ms/step - loss: 0.0025 - val_loss: 0.0081\n",
            "Epoch 75/100\n",
            "22/22 [==============================] - 0s 19ms/step - loss: 0.0024 - val_loss: 0.0081\n",
            "Epoch 76/100\n",
            "22/22 [==============================] - 0s 11ms/step - loss: 0.0024 - val_loss: 0.0082\n",
            "Epoch 77/100\n",
            "22/22 [==============================] - 0s 10ms/step - loss: 0.0024 - val_loss: 0.0081\n",
            "Epoch 78/100\n",
            "22/22 [==============================] - 0s 14ms/step - loss: 0.0026 - val_loss: 0.0087\n",
            "Epoch 79/100\n",
            "22/22 [==============================] - 0s 17ms/step - loss: 0.0026 - val_loss: 0.0086\n",
            "Epoch 80/100\n",
            "22/22 [==============================] - 0s 10ms/step - loss: 0.0026 - val_loss: 0.0080\n",
            "Epoch 81/100\n",
            "22/22 [==============================] - 0s 6ms/step - loss: 0.0024 - val_loss: 0.0080\n",
            "Epoch 82/100\n",
            "22/22 [==============================] - 0s 6ms/step - loss: 0.0025 - val_loss: 0.0089\n",
            "Epoch 83/100\n",
            "22/22 [==============================] - 0s 10ms/step - loss: 0.0028 - val_loss: 0.0096\n",
            "Epoch 84/100\n",
            "22/22 [==============================] - 0s 7ms/step - loss: 0.0024 - val_loss: 0.0079\n",
            "Epoch 85/100\n",
            "22/22 [==============================] - 0s 12ms/step - loss: 0.0024 - val_loss: 0.0081\n",
            "Epoch 86/100\n",
            "22/22 [==============================] - 0s 15ms/step - loss: 0.0026 - val_loss: 0.0086\n",
            "Epoch 87/100\n",
            "22/22 [==============================] - 0s 22ms/step - loss: 0.0026 - val_loss: 0.0081\n",
            "Epoch 88/100\n",
            "22/22 [==============================] - 0s 10ms/step - loss: 0.0024 - val_loss: 0.0080\n",
            "Epoch 89/100\n",
            "22/22 [==============================] - 0s 14ms/step - loss: 0.0025 - val_loss: 0.0097\n",
            "Epoch 90/100\n",
            "22/22 [==============================] - 0s 13ms/step - loss: 0.0027 - val_loss: 0.0079\n",
            "Epoch 91/100\n",
            "22/22 [==============================] - 0s 21ms/step - loss: 0.0023 - val_loss: 0.0079\n",
            "Epoch 92/100\n",
            "22/22 [==============================] - 0s 13ms/step - loss: 0.0024 - val_loss: 0.0078\n",
            "Epoch 93/100\n",
            "22/22 [==============================] - 0s 17ms/step - loss: 0.0025 - val_loss: 0.0090\n",
            "Epoch 94/100\n",
            "22/22 [==============================] - 0s 12ms/step - loss: 0.0023 - val_loss: 0.0082\n",
            "Epoch 95/100\n",
            "22/22 [==============================] - 0s 13ms/step - loss: 0.0025 - val_loss: 0.0080\n",
            "Epoch 96/100\n",
            "22/22 [==============================] - 0s 13ms/step - loss: 0.0024 - val_loss: 0.0083\n",
            "Epoch 97/100\n",
            "22/22 [==============================] - 0s 10ms/step - loss: 0.0024 - val_loss: 0.0077\n",
            "Epoch 98/100\n",
            "22/22 [==============================] - 0s 14ms/step - loss: 0.0025 - val_loss: 0.0080\n",
            "Epoch 99/100\n",
            "22/22 [==============================] - 0s 11ms/step - loss: 0.0024 - val_loss: 0.0085\n",
            "Epoch 100/100\n",
            "22/22 [==============================] - 0s 8ms/step - loss: 0.0024 - val_loss: 0.0079\n"
          ]
        }
      ]
    },
    {
      "cell_type": "code",
      "source": [
        "plt.plot(history.history['loss'])\n",
        "plt.plot(history.history['val_loss'])\n",
        "plt.title('model loss')\n",
        "plt.ylabel('loss')\n",
        "plt.xlabel('epoch')\n",
        "plt.legend(['train', 'val'], loc='upper left')\n",
        "plt.show()"
      ],
      "metadata": {
        "colab": {
          "base_uri": "https://localhost:8080/",
          "height": 295
        },
        "id": "ZriF59v48HKg",
        "outputId": "0a6d8198-3bc7-4c80-c905-e3850fce7f2f"
      },
      "execution_count": 17,
      "outputs": [
        {
          "output_type": "display_data",
          "data": {
            "text/plain": [
              "<Figure size 432x288 with 1 Axes>"
            ],
            "image/png": "[encoded data removed]"
          },
          "metadata": {
            "needs_background": "light"
          }
        }
      ]
    },
    {
      "cell_type": "code",
      "source": [
        "train_pred = model.predict(Xtrain)\n",
        "train_pred = scaler.inverse_transform(train_pred)\n",
        "Y_train = scaler.inverse_transform([Ytrain])\n",
        "mse = math.sqrt(mean_squared_error(train_pred, Y_train[0]))\n",
        "\n",
        "mse"
      ],
      "metadata": {
        "colab": {
          "base_uri": "https://localhost:8080/"
        },
        "id": "l7uXGvgc_emF",
        "outputId": "75c37088-6211-4836-bbbb-1534ede1d7a2"
      },
      "execution_count": 18,
      "outputs": [
        {
          "output_type": "stream",
          "name": "stdout",
          "text": [
            "5/5 [==============================] - 1s 9ms/step\n"
          ]
        },
        {
          "output_type": "execute_result",
          "data": {
            "text/plain": [
              "30.349399831602"
            ]
          },
          "metadata": {},
          "execution_count": 18
        }
      ]
    },
    {
      "cell_type": "code",
      "source": [
        "test_pred = model.predict(Xtest)\n",
        "test_pred = scaler.inverse_transform(test_pred)\n",
        "Y_test = scaler.inverse_transform([Ytest])\n",
        "mse2 = math.sqrt(mean_squared_error(test_pred, Y_test[0]))\n",
        "\n",
        "mse2"
      ],
      "metadata": {
        "colab": {
          "base_uri": "https://localhost:8080/"
        },
        "id": "fSwVPsh2_TcO",
        "outputId": "7769f366-717c-4572-fd94-c29a00886d84"
      },
      "execution_count": 19,
      "outputs": [
        {
          "output_type": "stream",
          "name": "stdout",
          "text": [
            "5/5 [==============================] - 0s 4ms/step\n"
          ]
        },
        {
          "output_type": "execute_result",
          "data": {
            "text/plain": [
              "30.349399831602"
            ]
          },
          "metadata": {},
          "execution_count": 19
        }
      ]
    },
    {
      "cell_type": "code",
      "source": [
        "inverse_transform = plt.plot(scaler.inverse_transform(data))\n",
        "train_plot = plt.plot(scaler.inverse_transform(train_pred))\n",
        "test_plot = plt.plot(scaler.inverse_transform(test_pred))"
      ],
      "metadata": {
        "colab": {
          "base_uri": "https://localhost:8080/",
          "height": 265
        },
        "id": "H8n9-w_xBkvn",
        "outputId": "97df171b-cc19-4e1b-abe5-f9d0fb68d7fc"
      },
      "execution_count": 21,
      "outputs": [
        {
          "output_type": "display_data",
          "data": {
            "text/plain": [
              "<Figure size 432x288 with 1 Axes>"
            ],
            "image/png": "[encoded data removed]"
          },
          "metadata": {
            "needs_background": "light"
          }
        }
      ]
    }
  ]
}